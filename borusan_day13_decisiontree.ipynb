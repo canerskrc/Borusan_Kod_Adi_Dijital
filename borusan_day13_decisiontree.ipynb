{
  "nbformat": 4,
  "nbformat_minor": 0,
  "metadata": {
    "colab": {
      "provenance": [],
      "authorship_tag": "ABX9TyPWly2EhlVn0Pf7BUX55ms+",
      "include_colab_link": true
    },
    "kernelspec": {
      "name": "python3",
      "display_name": "Python 3"
    },
    "language_info": {
      "name": "python"
    }
  },
  "cells": [
    {
      "cell_type": "markdown",
      "metadata": {
        "id": "view-in-github",
        "colab_type": "text"
      },
      "source": [
        "<a href=\"https://colab.research.google.com/github/canerskrc/Borusan_Kod_Adi_Dijital/blob/main/borusan_day13_decisiontree.ipynb\" target=\"_parent\"><img src=\"https://colab.research.google.com/assets/colab-badge.svg\" alt=\"Open In Colab\"/></a>"
      ]
    },
    {
      "cell_type": "markdown",
      "source": [
        "#1- Bilgi Kazanımı\n",
        "\n",
        "X ={a,a,a,a,b,b,b,b,b,b,b }\n",
        "\n",
        "a = 4 adet\n",
        "b= 7 adet\n",
        "\n",
        "Entropi = 4/11 .log(4/11) + 7/11.log(7/11)\n",
        "\n",
        "#Gini İndeks\n",
        "\n",
        "bir düğümde seçilen iki özellik farklı sınıfa düşer mi? sorusunun cevabıdır.\n",
        "\n",
        "Gini küçükse = aynı sınıfa düşme ihtimali yüksek ( düğüm saf )\n",
        "gini büyükse = farklı sınıfa düşme ihtimali yüksek ( karışık düğüm )\n",
        "\n",
        "#Ağaç Algoritma Türleri\n",
        "\n",
        "1- CART ( Classification and Regression Trees )\n",
        "\n",
        "2- MARS ( Multivariate Adaptive Regression Splines )\n",
        "\n",
        "3- Conditional Inference Trees\n",
        "\n",
        "4- CHAID ( Chi-Square Automatic Interaction Detection )\n",
        "\n",
        "5- ID3 ( Iteratif Dichotomiser 3 )\n",
        "\n"
      ],
      "metadata": {
        "id": "MDKJcssrhlRD"
      }
    },
    {
      "cell_type": "code",
      "execution_count": 13,
      "metadata": {
        "colab": {
          "base_uri": "https://localhost:8080/"
        },
        "id": "V9t1toXAfH2w",
        "outputId": "36fa8a5c-cfa8-4088-946f-a87d3fa5854a"
      },
      "outputs": [
        {
          "output_type": "stream",
          "name": "stdout",
          "text": [
            "<class 'pandas.core.frame.DataFrame'>\n",
            "RangeIndex: 76518 entries, 0 to 76517\n",
            "Data columns (total 38 columns):\n",
            " #   Column                                          Non-Null Count  Dtype  \n",
            "---  ------                                          --------------  -----  \n",
            " 0   id                                              76518 non-null  int64  \n",
            " 1   Marital status                                  76518 non-null  int64  \n",
            " 2   Application mode                                76518 non-null  int64  \n",
            " 3   Application order                               76518 non-null  int64  \n",
            " 4   Course                                          76518 non-null  int64  \n",
            " 5   Daytime/evening attendance                      76518 non-null  int64  \n",
            " 6   Previous qualification                          76518 non-null  int64  \n",
            " 7   Previous qualification (grade)                  76518 non-null  float64\n",
            " 8   Nacionality                                     76518 non-null  int64  \n",
            " 9   Mother's qualification                          76518 non-null  int64  \n",
            " 10  Father's qualification                          76518 non-null  int64  \n",
            " 11  Mother's occupation                             76518 non-null  int64  \n",
            " 12  Father's occupation                             76518 non-null  int64  \n",
            " 13  Admission grade                                 76518 non-null  float64\n",
            " 14  Displaced                                       76518 non-null  int64  \n",
            " 15  Educational special needs                       76518 non-null  int64  \n",
            " 16  Debtor                                          76518 non-null  int64  \n",
            " 17  Tuition fees up to date                         76518 non-null  int64  \n",
            " 18  Gender                                          76518 non-null  int64  \n",
            " 19  Scholarship holder                              76518 non-null  int64  \n",
            " 20  Age at enrollment                               76518 non-null  int64  \n",
            " 21  International                                   76518 non-null  int64  \n",
            " 22  Curricular units 1st sem (credited)             76518 non-null  int64  \n",
            " 23  Curricular units 1st sem (enrolled)             76518 non-null  int64  \n",
            " 24  Curricular units 1st sem (evaluations)          76518 non-null  int64  \n",
            " 25  Curricular units 1st sem (approved)             76518 non-null  int64  \n",
            " 26  Curricular units 1st sem (grade)                76518 non-null  float64\n",
            " 27  Curricular units 1st sem (without evaluations)  76518 non-null  int64  \n",
            " 28  Curricular units 2nd sem (credited)             76518 non-null  int64  \n",
            " 29  Curricular units 2nd sem (enrolled)             76518 non-null  int64  \n",
            " 30  Curricular units 2nd sem (evaluations)          76518 non-null  int64  \n",
            " 31  Curricular units 2nd sem (approved)             76518 non-null  int64  \n",
            " 32  Curricular units 2nd sem (grade)                76518 non-null  float64\n",
            " 33  Curricular units 2nd sem (without evaluations)  76518 non-null  int64  \n",
            " 34  Unemployment rate                               76518 non-null  float64\n",
            " 35  Inflation rate                                  76518 non-null  float64\n",
            " 36  GDP                                             76518 non-null  float64\n",
            " 37  Target                                          76518 non-null  object \n",
            "dtypes: float64(7), int64(30), object(1)\n",
            "memory usage: 22.2+ MB\n"
          ]
        }
      ],
      "source": [
        "import pandas as pd\n",
        "import numpy as np\n",
        "\n",
        "df = pd.read_csv(\"train.csv\")\n",
        "df.head()\n",
        "df.info()"
      ]
    },
    {
      "cell_type": "code",
      "source": [
        "import math\n",
        "\n",
        "X = df.drop(\"Target\", axis=1)\n",
        "y = df[\"Target\"]\n"
      ],
      "metadata": {
        "id": "jrqn_4Jwzj4t"
      },
      "execution_count": 14,
      "outputs": []
    },
    {
      "cell_type": "code",
      "source": [
        "def entropy(y):\n",
        "  values, counts = np.unique(y, return_counts= True)\n",
        "  probs = counts/ counts.sum()\n",
        "  return -np.sum(probs * np.log2(probs))\n",
        "\n",
        "def gini(y):\n",
        "  values, counts = np.unique(y, return_counts=True)\n",
        "  probs = counts / counts.sum()\n",
        "  return 1 - np.sum(probs ** 2 )"
      ],
      "metadata": {
        "id": "KlGC6vBR1xRb"
      },
      "execution_count": 15,
      "outputs": []
    },
    {
      "cell_type": "code",
      "source": [
        "def best_split(X,y,criterion=\"gini\"):\n",
        "  best_feature, best_threshold, best_impurity = None, None, float(\"inf\")\n",
        "  impurity_func = gini if criterion == \"gini\" else entropy\n",
        "  for feature in X.columns:\n",
        "    unique_values = X[feature].unique()\n",
        "\n",
        "    for value in unique_values:\n",
        "\n",
        "      if np.issubdtype(X[feature].dtype,np.number):\n",
        "        left_mask = (X[feature] <= value)\n",
        "      else:\n",
        "        left_mask = (X[feature] == value)\n",
        "      right_mask = ~left_mask #sol tarafta olmayan veriler sağ tarafa gider.\n",
        "\n",
        "      if left_mask.sum() == 0 or right_mask.sum() == 0:\n",
        "        continue\n",
        "\n",
        "      left_impurity = impurity_func(y[left_mask])\n",
        "      right_impurity = impurity_func(y[right_mask])\n",
        "\n",
        "      weighted_impurity = ((left_mask.sum()/len(y)) * left_impurity +\n",
        "                           (right_mask.sum()/len(y)) * right_impurity)\n",
        "\n",
        "      if weighted_impurity < best_impurity:\n",
        "        best_feature = feature\n",
        "        best_threshold = value\n",
        "        best_impurity = weighted_impurity\n",
        "\n",
        "  return best_feature, best_threshold, best_impurity"
      ],
      "metadata": {
        "id": "KO_Pferw3M4a"
      },
      "execution_count": 16,
      "outputs": []
    },
    {
      "cell_type": "markdown",
      "source": [
        "#Seçilen 5 özelliğe göre en iyi split'i bulma"
      ],
      "metadata": {
        "id": "0oVnS8EHUU9R"
      }
    },
    {
      "cell_type": "code",
      "source": [
        "selected_features = [\"Curricular units 2nd sem (grade)\",\n",
        "                     \"Curricular units 1st sem (grade)\",\n",
        "                     \"Previous qualification (grade)\",\n",
        "                     \"Admission grade\",\n",
        "                     \"Age at enrollment\"]\n",
        "\n",
        "X_selected = X[selected_features]\n",
        "\n",
        "best_feature, best_threshold, best_impurity = best_split(X_selected, y, criterion=\"gini\")\n",
        "print(\"En iyi özellik: \", best_feature)\n",
        "print(\"Eşik değer:\" , best_threshold)\n",
        "print(\"Impurity: \", best_impurity)\n"
      ],
      "metadata": {
        "colab": {
          "base_uri": "https://localhost:8080/"
        },
        "id": "Oo-yspkK-23I",
        "outputId": "0869289c-e923-43fd-b3cf-29389dcdab7d"
      },
      "execution_count": 17,
      "outputs": [
        {
          "output_type": "stream",
          "name": "stdout",
          "text": [
            "En iyi özellik:  Curricular units 2nd sem (grade)\n",
            "Eşik değer: 10.5\n",
            "Impurity:  0.43577337913793224\n"
          ]
        }
      ]
    },
    {
      "cell_type": "markdown",
      "source": [
        "#Karar Ağacı Node Sınıfı"
      ],
      "metadata": {
        "id": "qAbw7zCVUa9g"
      }
    },
    {
      "cell_type": "code",
      "source": [
        "class Node:\n",
        "  def __init__(self, feature= None, threshold= None,  left = None, right=None, value=None):\n",
        "    self.feature = feature\n",
        "    self.threshold = threshold\n",
        "    self.left = left\n",
        "    self.right = right\n",
        "    self.value = value #yaprak tahmini"
      ],
      "metadata": {
        "id": "17galuDNAin8"
      },
      "execution_count": 18,
      "outputs": []
    },
    {
      "cell_type": "markdown",
      "source": [
        "#Ağaç Kurulumu ( Recursive )"
      ],
      "metadata": {
        "id": "y0nKPq6pVM6E"
      }
    },
    {
      "cell_type": "code",
      "source": [
        "def build_tree(X,y, depth=0, max_depth=3, criterion=\"gini\"):\n",
        "  if len(np.unique(y)) == 1 or depth >= max_depth:\n",
        "    values, counts = np.unique(y, return_counts=True)\n",
        "    return Node(value=values[np.argmax(counts)])\n",
        "  feature, threshold = best_split(X,y, criterion=criterion)\n",
        "  if feature is None:\n",
        "    values,counts = np.unique(y, return_counts=True)\n",
        "    return Node(value=values[np.argmax(counts)])\n",
        "  if X[feature].dtype == \"object\":\n",
        "    left_mask = (X[feature] == threshold)\n",
        "  else:\n",
        "    left_mask = (X[feature] <= threshold)\n",
        "  right_mask = ~left_mask\n",
        "#recursive çağrı\n",
        "  left = build_tree(X[left_mask],y[left_mask], depth+1, max_depth, criterion)\n",
        "  right = build_tree(X[right_mask],y[right_mask], depth+1, max_depth, criterion)\n",
        "\n",
        "  return Node(feature, threshold, left,right, )"
      ],
      "metadata": {
        "id": "i4hL8QbUVLdC"
      },
      "execution_count": 19,
      "outputs": []
    },
    {
      "cell_type": "code",
      "source": [
        "import matplotlib.pyplot as plt\n",
        "import networkx as nx\n",
        "\n",
        "def plot_tree(node, graph=None, parent=None, edge_label=\"\"):\n",
        "  if graph is None:\n",
        "    graph = nx.DiGraph()\n",
        "  if node.value is not None:\n",
        "    label =f\"Leaf:{node.value}\"\n",
        "  else:\n",
        "    label = f\"{node.feature } <= {node.threshold}\"\n",
        "  graph.add_node(id(node), label=label)\n",
        "\n",
        "  if parent:\n",
        "    graph.add_edge(parent, id(node),label=edge_label)\n",
        "  if node.left:\n",
        "    plot_tree(node.left, graph, id(node), \"Yes\")\n",
        "  if node.right:\n",
        "    plot_tree(node.right, graph, id(node),\"No\")\n",
        "  return graph\n",
        "\n",
        "\n",
        "def draw_graph(graph):\n",
        "  pos = nx.spring_layout(graph)\n",
        "  labels = nx.get_node_attributes(graph, \"label\")\n",
        "  edge_labels = nx.get_edge_attributes(graph,\"label\")\n",
        "\n",
        "  nx.draw(graph, pos, with_labels=False, node_size=2000, node_color=\"lightblue\")\n",
        "  nx.draw_networkx_labels(graph, pos, labels)\n",
        "  nx.draw_networkx_edge_labels(graph, pos, edge_labels=edge_labels)\n",
        "  plt.show()"
      ],
      "metadata": {
        "id": "ImMvhbi9Z8V6"
      },
      "execution_count": 20,
      "outputs": []
    },
    {
      "cell_type": "code",
      "source": [
        "tree = build_tree(X_selected, y, max_depth=3, criterion=\"gini\")\n",
        "graph = plot_tree(tree)\n",
        "draw_graph(graph)\n",
        ""
      ],
      "metadata": {
        "colab": {
          "base_uri": "https://localhost:8080/",
          "height": 315
        },
        "id": "x_heLqYLdjUi",
        "outputId": "a22faae6-4a41-4f59-d689-ad9e47eb79c8"
      },
      "execution_count": 22,
      "outputs": [
        {
          "output_type": "error",
          "ename": "ValueError",
          "evalue": "too many values to unpack (expected 2)",
          "traceback": [
            "\u001b[0;31m---------------------------------------------------------------------------\u001b[0m",
            "\u001b[0;31mValueError\u001b[0m                                Traceback (most recent call last)",
            "\u001b[0;32m/tmp/ipython-input-804044044.py\u001b[0m in \u001b[0;36m<cell line: 0>\u001b[0;34m()\u001b[0m\n\u001b[0;32m----> 1\u001b[0;31m \u001b[0mtree\u001b[0m \u001b[0;34m=\u001b[0m \u001b[0mbuild_tree\u001b[0m\u001b[0;34m(\u001b[0m\u001b[0mX_selected\u001b[0m\u001b[0;34m,\u001b[0m \u001b[0my\u001b[0m\u001b[0;34m,\u001b[0m \u001b[0mmax_depth\u001b[0m\u001b[0;34m=\u001b[0m\u001b[0;36m3\u001b[0m\u001b[0;34m,\u001b[0m \u001b[0mcriterion\u001b[0m\u001b[0;34m=\u001b[0m\u001b[0;34m\"gini\"\u001b[0m\u001b[0;34m)\u001b[0m\u001b[0;34m\u001b[0m\u001b[0;34m\u001b[0m\u001b[0m\n\u001b[0m\u001b[1;32m      2\u001b[0m \u001b[0mgraph\u001b[0m \u001b[0;34m=\u001b[0m \u001b[0mplot_tree\u001b[0m\u001b[0;34m(\u001b[0m\u001b[0mtree\u001b[0m\u001b[0;34m)\u001b[0m\u001b[0;34m\u001b[0m\u001b[0;34m\u001b[0m\u001b[0m\n\u001b[1;32m      3\u001b[0m \u001b[0mdraw_graph\u001b[0m\u001b[0;34m(\u001b[0m\u001b[0mgraph\u001b[0m\u001b[0;34m)\u001b[0m\u001b[0;34m\u001b[0m\u001b[0;34m\u001b[0m\u001b[0m\n\u001b[1;32m      4\u001b[0m \u001b[0;34m\u001b[0m\u001b[0m\n",
            "\u001b[0;32m/tmp/ipython-input-3479135009.py\u001b[0m in \u001b[0;36mbuild_tree\u001b[0;34m(X, y, depth, max_depth, criterion)\u001b[0m\n\u001b[1;32m      3\u001b[0m     \u001b[0mvalues\u001b[0m\u001b[0;34m,\u001b[0m \u001b[0mcounts\u001b[0m \u001b[0;34m=\u001b[0m \u001b[0mnp\u001b[0m\u001b[0;34m.\u001b[0m\u001b[0munique\u001b[0m\u001b[0;34m(\u001b[0m\u001b[0my\u001b[0m\u001b[0;34m,\u001b[0m \u001b[0mreturn_counts\u001b[0m\u001b[0;34m=\u001b[0m\u001b[0;32mTrue\u001b[0m\u001b[0;34m)\u001b[0m\u001b[0;34m\u001b[0m\u001b[0;34m\u001b[0m\u001b[0m\n\u001b[1;32m      4\u001b[0m     \u001b[0;32mreturn\u001b[0m \u001b[0mNode\u001b[0m\u001b[0;34m(\u001b[0m\u001b[0mvalue\u001b[0m\u001b[0;34m=\u001b[0m\u001b[0mvalues\u001b[0m\u001b[0;34m[\u001b[0m\u001b[0mnp\u001b[0m\u001b[0;34m.\u001b[0m\u001b[0margmax\u001b[0m\u001b[0;34m(\u001b[0m\u001b[0mcounts\u001b[0m\u001b[0;34m)\u001b[0m\u001b[0;34m]\u001b[0m\u001b[0;34m)\u001b[0m\u001b[0;34m\u001b[0m\u001b[0;34m\u001b[0m\u001b[0m\n\u001b[0;32m----> 5\u001b[0;31m   \u001b[0mfeature\u001b[0m\u001b[0;34m,\u001b[0m \u001b[0mthreshold\u001b[0m \u001b[0;34m=\u001b[0m \u001b[0mbest_split\u001b[0m\u001b[0;34m(\u001b[0m\u001b[0mX\u001b[0m\u001b[0;34m,\u001b[0m\u001b[0my\u001b[0m\u001b[0;34m,\u001b[0m \u001b[0mcriterion\u001b[0m\u001b[0;34m=\u001b[0m\u001b[0mcriterion\u001b[0m\u001b[0;34m)\u001b[0m\u001b[0;34m\u001b[0m\u001b[0;34m\u001b[0m\u001b[0m\n\u001b[0m\u001b[1;32m      6\u001b[0m   \u001b[0;32mif\u001b[0m \u001b[0mfeature\u001b[0m \u001b[0;32mis\u001b[0m \u001b[0;32mNone\u001b[0m\u001b[0;34m:\u001b[0m\u001b[0;34m\u001b[0m\u001b[0;34m\u001b[0m\u001b[0m\n\u001b[1;32m      7\u001b[0m     \u001b[0mvalues\u001b[0m\u001b[0;34m,\u001b[0m\u001b[0mcounts\u001b[0m \u001b[0;34m=\u001b[0m \u001b[0mnp\u001b[0m\u001b[0;34m.\u001b[0m\u001b[0munique\u001b[0m\u001b[0;34m(\u001b[0m\u001b[0my\u001b[0m\u001b[0;34m,\u001b[0m \u001b[0mreturn_counts\u001b[0m\u001b[0;34m=\u001b[0m\u001b[0;32mTrue\u001b[0m\u001b[0;34m)\u001b[0m\u001b[0;34m\u001b[0m\u001b[0;34m\u001b[0m\u001b[0m\n",
            "\u001b[0;31mValueError\u001b[0m: too many values to unpack (expected 2)"
          ]
        }
      ]
    },
    {
      "cell_type": "markdown",
      "source": [
        "Split Mantığı\n",
        "\n",
        "- Gini = Daha hızlı, genellikle CART algoritmalarda production ortamında kullanılır.\n",
        "\n",
        "- Entropy = Daha hassas, ama logaritma içerdiğinden maliyetli.\n",
        "\n",
        "- max_depth = veri büyüklüğü, özellik sayısı, sınıf dağılımları, hedef performansı, Grid search / Cross Validation teknikleriyle belirlenmesi daha gerçekçi olur.\n",
        "\n",
        "- min_samples_split = bir düğümün bölünebilmesi için gereken örnek sayısı.\n",
        "\n",
        "- min_samples_leaf = Yaprakta kalması gereken minimum örnek sayısı.\n",
        "\n",
        "- Kategorik verilerde yüksek kardinaliteli özellikler bir kolona ağaç takılır ve anlamsız bölmeler gerçekleşir. Bu tip kolonlarda önceden gruplamak( binning ) Ya da one-hot encoding yerine target encoding kullanılır.\n",
        "\n",
        "- Overfitting ihtimalinde çok derin ağaçlarda pruning ( budama ) ile fazla dalları sonradan kesmek gerekir. Random forest veya Gradient Boosting algoritmalarında tek ağaç yerine ensemble yöntemleri kullanmak daha mantıklı olur. ( Ağaç tabanlı topluluk yönetimi XGBoost, CatBoost, LightGBM )\n",
        "\n",
        "\n",
        "\n"
      ],
      "metadata": {
        "id": "i91JVG5alJQs"
      }
    },
    {
      "cell_type": "code",
      "source": [],
      "metadata": {
        "id": "hB3VZz3peX_x"
      },
      "execution_count": null,
      "outputs": []
    }
  ]
}