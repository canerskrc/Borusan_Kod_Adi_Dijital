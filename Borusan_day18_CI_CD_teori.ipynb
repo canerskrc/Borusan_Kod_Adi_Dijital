{
  "nbformat": 4,
  "nbformat_minor": 0,
  "metadata": {
    "colab": {
      "provenance": [],
      "authorship_tag": "ABX9TyNNDwh6M/e95o8rY6p0fUR4",
      "include_colab_link": true
    },
    "kernelspec": {
      "name": "python3",
      "display_name": "Python 3"
    },
    "language_info": {
      "name": "python"
    }
  },
  "cells": [
    {
      "cell_type": "markdown",
      "metadata": {
        "id": "view-in-github",
        "colab_type": "text"
      },
      "source": [
        "<a href=\"https://colab.research.google.com/github/canerskrc/Borusan_Kod_Adi_Dijital/blob/main/Borusan_day18_CI_CD_teori.ipynb\" target=\"_parent\"><img src=\"https://colab.research.google.com/assets/colab-badge.svg\" alt=\"Open In Colab\"/></a>"
      ]
    },
    {
      "cell_type": "markdown",
      "source": [
        "#Model Veriyonlama"
      ],
      "metadata": {
        "id": "TXwfLFoInbGD"
      }
    },
    {
      "cell_type": "markdown",
      "source": [
        "- Branching = Ana modeli bozmadan yan dallarla denemeler, testler, yeni fikirler ekleme.\n",
        "\n",
        "- Semantic Versioning = Modeli kaydederken dosya adına verilen isim (v1.0)\n",
        "\n",
        "- Release = Modeli kurduktan sonra müşteriye veya ekibe sunulan sürüm.\n",
        "\n",
        "- Signed Commits = Kim bu modeli kaydetti ? Modelin kaynağını belirtir. İmza = Güvenlik.\n",
        "\n",
        "- Changelog = v1.0.0 --> PC5 bileşeniyle v1.1.0 --> PC7 bileşenle\n",
        "\n",
        "- Audit log = Tüm modelin tarihçesi ( Kim, ne zaman, hangi model versiyonunu kaydetti )"
      ],
      "metadata": {
        "id": "Ooir0nX-nfP_"
      }
    },
    {
      "cell_type": "markdown",
      "source": [
        "###Temel prensipleri\n",
        "\n",
        "- Atomic Commits = Her commit tek bir mantıksal değişiklik içermeli.\n",
        "\n",
        "- Anlaşılır commit mesajları = Başlık 50 karakter gövde 72 sütun. Format örneği: fix(payments): prevent double-charge on retry\n",
        "\n",
        "- Signed commits & tags = git commit -S -m \"fix: median imputation\" /"
      ],
      "metadata": {
        "id": "jAUgZQJZr3R3"
      }
    },
    {
      "cell_type": "markdown",
      "source": [
        "###Branching Stratejileri\n",
        "\n",
        "- Trunk Based Development = Küçük ekipler ve hızlı işler için kullanılan stratejidir.\n",
        "\n",
        "- GitFlow = Daha çok release döngüsü uzun olan bankacılık, ERP entegrasyonları.\n",
        "\n",
        "- Feature Branch + PR ="
      ],
      "metadata": {
        "id": "wkk-Dt3_uJf3"
      }
    },
    {
      "cell_type": "markdown",
      "source": [
        "## Feature Workflow\n",
        "\n",
        "- Ana dalı güncel tut : git checkout main && git pull origin main\n",
        "\n",
        "- Yeni feature branch :\n",
        "\n",
        "- Küçük commit'ler :\n",
        "\n",
        "- Rebase ile güncel tut :\n",
        "\n",
        "Merge iki dalı birleştirir, yeni bir birleşim noktası(commit) yaratır. Tarih korunur.\n",
        "\n",
        "merge öncesi\n",
        "\n",
        "main : A ---- B ----- C\n",
        "feature :      \\ --- D ---- E\n",
        "\n",
        "merge sonrası\n",
        "\n",
        "main : A ----- B ----- C ------------ M\n",
        "feature :       \\ ---- D ----E -------/\n",
        "\n",
        "Rebase ile sanki feature dalını en baştan main commit'in üstüne yazılmış gibi gösterir.\n",
        "\n",
        "main : A ---- B ----- C\n",
        "feature :      \\ --- D ---- E\n",
        "\n",
        "rebase sonrası\n",
        "\n",
        "main : A ---- B ----- C\n",
        "feature :              \\ --- D' ---- E'\n",
        "\n",
        "Winklevoss davası"
      ],
      "metadata": {
        "id": "sA58ECv0vQef"
      }
    },
    {
      "cell_type": "markdown",
      "source": [
        "#Endpoint Takibi\n",
        "\n",
        "- Ulaşılabilirlik = Endpoint 200 yanıt veriyo mu ? /health, /status düzenli olarak poll edilir.\n",
        "\n",
        "- Performans =\n",
        "\n",
        "- Güvenilirlik / Hata İzleme"
      ],
      "metadata": {
        "id": "e-BEQ7F98XFF"
      }
    },
    {
      "cell_type": "markdown",
      "source": [
        "#Monitoring\n",
        "\n",
        "Modelin veya sistemin anlık durumunu gözlemlemek, performansını ölçmek ve hataları takip etmek için kullanılan bir süreçtir.\n",
        "\n",
        "Hedefleri :\n",
        "\n",
        "- Ulaşılabilirlik\n",
        "\n",
        "- Performans\n",
        "\n",
        "- Güvenilirlik\n",
        "\n",
        "Monitoring & Logging = Logging \"sistem ne yaptı?\" daha çok geçmiş olayları kaydeder. Monitoring \"sistem şu an ne durumda?\" Gerçek zamanlı sağlık ölçümü.\n",
        "\n",
        "Ölçtüğü Metrikler :\n",
        "\n",
        "- Latency = Bir çağrının yanıt verme süresi ? Ortalama latency yanıltıcı olur. p95 veya p99 latency kullanılır.\n",
        "\n",
        "p95 latency = Bütün çağrıların %95 i bu süreden daha hızlıdır. Kabul edilebilir sınır sektöre göre değişir. E-ticaret = <300ms finans <500ms... Genel kural zaman bütçesi ve kullanıcı toleransına göre belirlenen bir sınırdır.\n",
        "\n",
        "- Hata oranı ( Error Rate ) = Error rate %1'in üzerinde çıkarsa sistem istikrarsız bir sistem olarak kabul edilir.\n",
        "\n",
        "- Throughput ( İşlem Hacmi ) = Birim zamanda kaç tane request işlenir.\n",
        "\n",
        "- Resource Usage = CPU, RAM, GPU tüketimi.\n"
      ],
      "metadata": {
        "id": "Mg5I3lC9f6Fa"
      }
    },
    {
      "cell_type": "markdown",
      "source": [
        "##Monitoring Mantığı\n",
        "\n",
        "1- enstrümantasyon = Sisteme ölçüm noktaları eklenir. ( time ile latency ölçümü veya try except ile error yakalama )\n",
        "\n",
        "2- Veri Toplama = Her çağrının latency ve status bilgisi kaydedilir.\n",
        "\n",
        "3- Görselleştirme = Latency grafiği, hata oranı\n",
        "\n",
        "4- Alarm = Belirtilen eşik aşıldığında uyarı bırakılır.\n",
        "\n",
        "5- Analiz ve Optimizasyon = Monitoring verisi sayesinde sistem iyileştirilir.\n",
        "\n"
      ],
      "metadata": {
        "id": "ZjP0WSeSh59K"
      }
    },
    {
      "cell_type": "code",
      "source": [],
      "metadata": {
        "id": "X2UM2sRSigwS"
      },
      "execution_count": null,
      "outputs": []
    }
  ]
}