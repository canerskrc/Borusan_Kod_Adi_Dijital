{
  "nbformat": 4,
  "nbformat_minor": 0,
  "metadata": {
    "colab": {
      "provenance": [],
      "authorship_tag": "ABX9TyP/LEfvbm6wBDK7j9r+gyUz",
      "include_colab_link": true
    },
    "kernelspec": {
      "name": "python3",
      "display_name": "Python 3"
    },
    "language_info": {
      "name": "python"
    }
  },
  "cells": [
    {
      "cell_type": "markdown",
      "metadata": {
        "id": "view-in-github",
        "colab_type": "text"
      },
      "source": [
        "<a href=\"https://colab.research.google.com/github/canerskrc/Borusan_Kod_Adi_Dijital/blob/main/borusan_day15_model_metrikleri.ipynb\" target=\"_parent\"><img src=\"https://colab.research.google.com/assets/colab-badge.svg\" alt=\"Open In Colab\"/></a>"
      ]
    },
    {
      "cell_type": "code",
      "execution_count": 1,
      "metadata": {
        "colab": {
          "base_uri": "https://localhost:8080/"
        },
        "id": "euCOYX4JhrjD",
        "outputId": "74275c25-713f-4fa5-a859-cd07f51500ba"
      },
      "outputs": [
        {
          "output_type": "stream",
          "name": "stdout",
          "text": [
            "need_change\n",
            "0    1762\n",
            "1     486\n",
            "Name: count, dtype: int64\n"
          ]
        }
      ],
      "source": [
        "import pandas as pd\n",
        "import numpy as np\n",
        "\n",
        "df= pd.read_csv(\"Car_Tyres_Dataset.csv\")\n",
        "\n",
        "df[\"Selling Price\"] = df[\"Selling Price\"].str.replace(\",\", \"\").astype(float)\n",
        "df[\"Original Price\"] = df[\"Original Price\"].str.replace(\",\", \"\").astype(float)\n",
        "\n",
        "df = df.dropna(subset=[\"Rating\"])\n",
        "\n",
        "df[\"need_change\"] = (df[\"Rating\"] < 4 ).astype(int)\n",
        "\n",
        "print(df[\"need_change\"].value_counts())"
      ]
    },
    {
      "cell_type": "code",
      "source": [
        "from sklearn.preprocessing import OneHotEncoder\n",
        "from sklearn.compose import ColumnTransformer\n",
        "from sklearn.pipeline import Pipeline\n",
        "from sklearn.linear_model import LogisticRegression\n",
        "from sklearn.model_selection import train_test_split\n",
        "\n",
        "X = df.drop(columns = [\"Rating\", \"need_change\"])\n",
        "y = df[\"need_change\"]\n",
        "\n",
        "X_train, X_test, y_train, y_test = train_test_split(X,y, test_size = 0.2, random_state=42, stratify = y)\n",
        "\n",
        "categorical_cols = [\"Brand \",\"Model\",\"Submodel\",\"Tyre Brand\",\"Serial No.\",\"Type\",\"Size\"]\n",
        "numeric_cols = [\"Selling Price\",\"Original Price\",\"Load Index\"]\n",
        "#PipeLine: kategorikler için OneHot, sayılar direkt geçsin\n",
        "preprocessor = ColumnTransformer(\n",
        "    transformers = [\n",
        "        (\"cat\", OneHotEncoder(handle_unknown=\"ignore\"),categorical_cols),\n",
        "        (\"num\", \"passthrough\", numeric_cols)\n",
        "    ]\n",
        ")\n",
        "\n",
        "model = Pipeline(steps=[\n",
        "    (\"preprocess\", preprocessor),\n",
        "    (\"classifier\", LogisticRegression(\n",
        "        penalty=\"elasticnet\", solver=\"saga\", l1_ratio=0.5, max_iter= 5000\n",
        "    ))\n",
        "])\n",
        "\n",
        "model.fit(X_train,y_train)\n",
        "\n",
        "y_pred = model.predict(X_test)\n",
        "y_prob = model.predict_proba(X_test)[:, 1]"
      ],
      "metadata": {
        "id": "fUf4YRzVhxNO"
      },
      "execution_count": 4,
      "outputs": []
    },
    {
      "cell_type": "code",
      "source": [
        "from sklearn.metrics import confusion_matrix, accuracy_score, precision_score, recall_score, f1_score,ConfusionMatrixDisplay\n",
        "\n",
        "cm = confusion_matrix(y_test, y_pred)\n",
        "disp = ConfusionMatrixDisplay(confusion_matrix=cm, display_labels=['False', 'True'])\n",
        "disp.plot()"
      ],
      "metadata": {
        "colab": {
          "base_uri": "https://localhost:8080/",
          "height": 466
        },
        "id": "sSqEYB48hzQ-",
        "outputId": "67cd95a7-8424-44e6-f471-e9b56b62feeb"
      },
      "execution_count": 6,
      "outputs": [
        {
          "output_type": "execute_result",
          "data": {
            "text/plain": [
              "<sklearn.metrics._plot.confusion_matrix.ConfusionMatrixDisplay at 0x78c52ee8bd10>"
            ]
          },
          "metadata": {},
          "execution_count": 6
        },
        {
          "output_type": "display_data",
          "data": {
            "text/plain": [
              "<Figure size 640x480 with 2 Axes>"
            ],
            "image/png": "[encoded data removed]"
          },
          "metadata": {}
        }
      ]
    },
    {
      "cell_type": "code",
      "source": [],
      "metadata": {
        "id": "Dw5ZLfbuiEQ4"
      },
      "execution_count": null,
      "outputs": []
    }
  ]
}