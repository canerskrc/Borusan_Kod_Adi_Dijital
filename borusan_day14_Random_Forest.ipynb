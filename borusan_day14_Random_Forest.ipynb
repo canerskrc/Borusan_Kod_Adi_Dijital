{
  "nbformat": 4,
  "nbformat_minor": 0,
  "metadata": {
    "colab": {
      "provenance": [],
      "authorship_tag": "ABX9TyNrj/nq+bkfzqolSngJbREf",
      "include_colab_link": true
    },
    "kernelspec": {
      "name": "python3",
      "display_name": "Python 3"
    },
    "language_info": {
      "name": "python"
    }
  },
  "cells": [
    {
      "cell_type": "markdown",
      "metadata": {
        "id": "view-in-github",
        "colab_type": "text"
      },
      "source": [
        "<a href=\"https://colab.research.google.com/github/canerskrc/Borusan_Kod_Adi_Dijital/blob/main/borusan_day14_Random_Forest.ipynb\" target=\"_parent\"><img src=\"https://colab.research.google.com/assets/colab-badge.svg\" alt=\"Open In Colab\"/></a>"
      ]
    },
    {
      "cell_type": "markdown",
      "source": [
        "#Çalışma Prensibi\n",
        "\n",
        "- Birden fazla Decision Tree'nin bir araya gelerek oluşturduğu algoritmadır.\n",
        "\n",
        "- Her ağaç oluşturulurken tüm özelliklere aynı anda bakılmaz. Verilerin nasıl bölüneceğine karar vermek için rastgele birkaç özellik seçilir.\n",
        "\n",
        "- Sınıflandırma için ağaçların çoğunun hemfikir olması yani çoğunluk oyu son sınıflandırma cevabını üretir. Regresyon için de son cevap ağaçların tahminlerinin ortalaması olduğundan bir sayı elde edilir.\n",
        "\n"
      ],
      "metadata": {
        "id": "7iuWaUK7oZTb"
      }
    },
    {
      "cell_type": "code",
      "execution_count": null,
      "metadata": {
        "id": "Ksj1sF1TnqFu"
      },
      "outputs": [],
      "source": [
        "import numpy as np\n",
        "import pandas as pd\n",
        "\n"
      ]
    },
    {
      "cell_type": "code",
      "source": [
        "class Node:\n",
        "  def __init__(self, feature=None, threshold=None, left = None, right = None, value= None):\n",
        "    self.feature = feature\n",
        "    self.threshold = threshold\n",
        "    self.left = left\n",
        "    self.right = right\n",
        "    self.value = value"
      ],
      "metadata": {
        "id": "qHbfStwVqVyv"
      },
      "execution_count": null,
      "outputs": []
    },
    {
      "cell_type": "code",
      "source": [
        "def entropy(y):\n",
        "  values, counts = np.unique(y,  return_counts=True)\n",
        "  probs = counts / counts.sum()\n",
        "  return -np.sum(probs * np.log2(probs))\n",
        "\n",
        "def gini(y):\n",
        "  values, counts = np.unique(y,  return_counts=True)\n",
        "  probs = counts / counts.sum()\n",
        "  return -np.sum(probs ** 2)\n",
        "\n",
        "def best_split(X,y,criterion=\"gini\", feature_subset=None):\n",
        "  best_feature, best_threshold, best_impurity = None, None, float(\"inf\")\n",
        "  impurity_func = gini if criterion == \"gini\" else entropy\n",
        "\n",
        "  features = feature_subset if feature_subset is not None else X.colums\n",
        "\n",
        "  for feature in features:\n",
        "    unique_values = X[feature].unique() # her bir özellik için o özelliğin alabileceği tüm unique değerleri alır.\n",
        "\n",
        "    for val in unique_values:\n",
        "\n",
        "      if np.issubdtype(X[feature].dtype,np.number):\n",
        "        left_mask = (X[feature] <= val)\n",
        "      else:\n",
        "        left_mask = (X[feature] == val)\n",
        "      right_mask = ~left_mask #sol tarafta olmayan veriler sağ tarafa gider.\n",
        "\n",
        "      if left_mask.sum() == 0 or right_mask.sum() == 0:\n",
        "        continue\n",
        "\n",
        "#Sağ ve sol impurity hesaplama\n",
        "\n",
        "      left_impurity = impurity_func(y[left_mask])\n",
        "      right_impurity = impurity_func(y[right_mask])\n",
        "\n",
        "#Ağırlıklı ortalama impurity. Split'in toplam belirsizlik maliyetini ölçer.\n",
        "\n",
        "      weighted = ((left_mask.sum()/len(y)) * left_impurity +\n",
        "                           (right_mask.sum()/len(y)) * right_impurity)\n",
        "\n",
        "#En iyi split'i güncelleme\n",
        "\n",
        "      if weighted < best_impurity:\n",
        "        best_feature = feature\n",
        "        best_threshold = val\n",
        "        best_impurity = weighted\n",
        "  return best_feature, best_threshold, best_impurity\n"
      ],
      "metadata": {
        "id": "WyrmCVyyq7mV"
      },
      "execution_count": null,
      "outputs": []
    },
    {
      "cell_type": "markdown",
      "source": [
        "#Decision Tree Kurgusu"
      ],
      "metadata": {
        "id": "ZMZAIQFsu62W"
      }
    },
    {
      "cell_type": "code",
      "source": [
        "def build_tree(X,y, depth=0, max_depth=5, criterion=\"gini\", max_features=None):\n",
        "\n",
        "  #Durdurma koşulu ( leaf oluşturma )\n",
        "\n",
        "  if len(np.unique(y)) == 1 or depth >= max_depth:\n",
        "    values, counts = np.unique(y, return_counts=True)\n",
        "    return Node(value=values[np.argmax(counts)])\n",
        "#Random özellik seçimi\n",
        "  if max_features is None:\n",
        "    features = X.columns\n",
        "  else:\n",
        "    features = np.random.choice(X.columns, max_features, replace=False )\n",
        "\n",
        "#En iyi split'i bul\n",
        "\n",
        "  feature, threshold = best_split(X,y, criterion, feature_subset=features) # hangi sütunu hangi eşikle bölelim? cevabı burada verilir.\n",
        "  if feature is None:\n",
        "    values,counts = np.unique(y, return_counts=True)\n",
        "    return Node(value=values[np.argmax(counts)])\n",
        "\n",
        "#Bölme maskeleri oluştur\n",
        "\n",
        "  if np.issubdtype(X[feature].dtype, np.number):\n",
        "    left_mask = (X[feature] <= threshold)\n",
        "  else:\n",
        "    left_mask = (X[feature] == threshold)\n",
        "  right_mask = ~left_mask\n",
        "\n",
        "#recursive çağrı(alt ağaçlar oluşturulur)\n",
        "\n",
        "  left = build_tree(X[left_mask],y[left_mask], depth+1, max_depth, criterion)\n",
        "  right = build_tree(X[right_mask],y[right_mask], depth+1, max_depth, criterion)\n",
        "\n",
        "  return Node(feature, threshold, left,right)"
      ],
      "metadata": {
        "id": "ThPzaUrpu3NV"
      },
      "execution_count": null,
      "outputs": []
    },
    {
      "cell_type": "markdown",
      "source": [
        "#Random Forest"
      ],
      "metadata": {
        "id": "Id_ng4tjy3P3"
      }
    },
    {
      "cell_type": "code",
      "source": [
        "from collections import Counter\n",
        "class RandomForest:\n",
        "  def __init__(self, n_trees = 10, max_depth = 5, criterion=\"gini\", max_features=None):\n",
        "    self.n_trees= n_trees\n",
        "    self.max_depth = max_depth\n",
        "    self.criterion = criterion\n",
        "    self.max_features = max_features\n",
        "    self.trees = []\n",
        "\n",
        "  def fit(self, X,y):\n",
        "    for _ in range(self.n_trees):\n",
        "      idxs = np.random.choice(len(X),len(y),replace=True)\n",
        "      X_sample, y_sample = X.iloc[idxs], y.iloc[idxs]\n",
        "\n",
        "      tree = build_tree(\n",
        "          X_sample, y_sample,\n",
        "          max_depth = self.max_depth,\n",
        "          criterion= self.criterion,\n",
        "          max_features= self.max_features\n",
        "      )\n",
        "      self.trees.append(tree)\n",
        "\n",
        "  def predict_one(self, x, tree):\n",
        "    node = tree\n",
        "    while node.value is None:\n",
        "      if np.issubdtype(type(x[node.feature]), np.number):\n",
        "        if x[node.feature] <= node.threshold:\n",
        "          node = node.left\n",
        "        else:\n",
        "          node = node.right\n",
        "      else:\n",
        "        if x[node.feature] == node.threshold:\n",
        "          node = node.left\n",
        "        else:\n",
        "          node = node.right\n",
        "    return node.value\n",
        "\n",
        "#Majority Voting\n",
        "\n",
        "  def predict(self, X):\n",
        "    tree_preds = []\n",
        "    for tree in self.trees:\n",
        "      preds = [self.predict_one(x,tree) for _, x in X.iterrows()]\n",
        "      tree_preds.append(preds)\n",
        "\n",
        "    tree_preds = np.array(tree_preds).T\n",
        "    final_preds = [Counter(row).most_common(1)[0][0] for row in tree_preds]\n",
        "    return final_preds\n",
        "\n",
        "\n"
      ],
      "metadata": {
        "id": "4TP6CI3ty2jC"
      },
      "execution_count": null,
      "outputs": []
    },
    {
      "cell_type": "code",
      "source": [
        "features = [\n",
        "    \"Curricular units 2nd sem (grade)\",\n",
        "    \"Curricular units 1st sem (grade)\",\n",
        "    \"Previous qualification (grade)\",\n",
        "    \"Admission grade\",\n",
        "    \"Age at enrollment\"]\n",
        "\n",
        "X_small = X[features]\n",
        "y_small = y\n",
        "\n",
        "rf = RandomForest(n_trees=5, max_depth=4, max_features=3)\n",
        "rf.fit(X_small,y_small)\n",
        "y_pred = rf.predict(X_small[:10])\n",
        "print(y_pred)"
      ],
      "metadata": {
        "id": "TE-gJNNY5hH3",
        "colab": {
          "base_uri": "https://localhost:8080/",
          "height": 211
        },
        "outputId": "f8c991c9-c568-4e47-d9d5-bf711ced3711"
      },
      "execution_count": 6,
      "outputs": [
        {
          "output_type": "error",
          "ename": "NameError",
          "evalue": "name 'X' is not defined",
          "traceback": [
            "\u001b[0;31m---------------------------------------------------------------------------\u001b[0m",
            "\u001b[0;31mNameError\u001b[0m                                 Traceback (most recent call last)",
            "\u001b[0;32m/tmp/ipython-input-1359056728.py\u001b[0m in \u001b[0;36m<cell line: 0>\u001b[0;34m()\u001b[0m\n\u001b[1;32m      6\u001b[0m     \"Age at enrollment\"]\n\u001b[1;32m      7\u001b[0m \u001b[0;34m\u001b[0m\u001b[0m\n\u001b[0;32m----> 8\u001b[0;31m \u001b[0mX_small\u001b[0m \u001b[0;34m=\u001b[0m \u001b[0mX\u001b[0m\u001b[0;34m[\u001b[0m\u001b[0mfeatures\u001b[0m\u001b[0;34m]\u001b[0m\u001b[0;34m\u001b[0m\u001b[0;34m\u001b[0m\u001b[0m\n\u001b[0m\u001b[1;32m      9\u001b[0m \u001b[0my_small\u001b[0m \u001b[0;34m=\u001b[0m \u001b[0my\u001b[0m\u001b[0;34m\u001b[0m\u001b[0;34m\u001b[0m\u001b[0m\n\u001b[1;32m     10\u001b[0m \u001b[0;34m\u001b[0m\u001b[0m\n",
            "\u001b[0;31mNameError\u001b[0m: name 'X' is not defined"
          ]
        }
      ]
    },
    {
      "cell_type": "markdown",
      "source": [
        "#RandomForest HPO\n",
        "\n",
        "- ağaç sayısı(n_estimators) modelin varyansı azalır. Big data ortamında 200-400 arasında değişir. Edge deployment için 50-100. Early stopping benzeri Out of bag hata grafiğiyle optimum ağaç sayısı belirlenir.\n",
        "\n",
        "- Max_dept çok derin ağaçlar ezber yapar.(overfit). Tabular verilerde 10-20 arasında tutulur. max_depth=None olduğunda model tüm düğümleri açar. Bu da overfit riskini yükseltir.\n",
        "\n",
        "- max_features düşük olursa varyans azalır ancak bias artar. yüksek olursa ağaçlar birbirine çok benzer kurgulanır ve korelasyon artar.\n",
        "\n",
        "- bootstrap sampling( bootstrap, max_samples) bootstrap=false olduğunda her ağaç tüm detayı görür bu da bagging etkisini azaltır. max_samples ağaç başına veri sayısını ayarlar. Çok büyük veri setlerinde(100M+ satır) max_samples=0.3 ile training süresi ikonik biçimde azaltılır ama accuracy büyük ölçüde korunur.\n",
        "\n",
        "- Out of Bag Error\n",
        "\n",
        "#HPO Stratejileri\n",
        "\n",
        "- Grid Search = Küçük datasetlerde klasik.\n",
        "\n",
        "- random search = 10+ hiperparametre varsa daha verimli.\n",
        "\n",
        "- Bayes optimizasyon = Akıllı arama tekniği\n",
        "\n",
        "- Population Based Training ( google vizier, Uber michelangelo platformları bunu kullanır )\n"
      ],
      "metadata": {
        "id": "z9rgSixxABN5"
      }
    },
    {
      "cell_type": "code",
      "source": [],
      "metadata": {
        "id": "QZVWs6Bh-57r"
      },
      "execution_count": null,
      "outputs": []
    }
  ]
}